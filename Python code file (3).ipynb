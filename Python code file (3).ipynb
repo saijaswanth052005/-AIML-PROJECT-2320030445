{
  "nbformat": 4,
  "nbformat_minor": 0,
  "metadata": {
    "colab": {
      "provenance": []
    },
    "kernelspec": {
      "name": "python3",
      "display_name": "Python 3"
    },
    "language_info": {
      "name": "python"
    }
  },
  "cells": [
    {
      "cell_type": "code",
      "execution_count": 1,
      "metadata": {
        "colab": {
          "base_uri": "https://localhost:8080/"
        },
        "id": "BBDjmYI9wPTj",
        "outputId": "dc6070c1-fffb-4e62-d5b9-8c5c1e4b7d06"
      },
      "outputs": [
        {
          "output_type": "stream",
          "name": "stdout",
          "text": [
            "Breadth First Traversal starting from vertex 2:\n",
            "2 0 3 1 "
          ]
        }
      ],
      "source": [
        "from collections import defaultdict\n",
        "\n",
        "class Graph:\n",
        "    def __init__(self):\n",
        "        # Using defaultdict to automatically handle missing keys\n",
        "        self.graph = defaultdict(list)\n",
        "\n",
        "    def add_edge(self, u, v):\n",
        "        # Adds an edge from vertex u to vertex v\n",
        "        self.graph[u].append(v)\n",
        "\n",
        "    def bfs(self, start_vertex):\n",
        "        # Initialize visited list based on the number of vertices\n",
        "        visited = [False] * (max(self.graph.keys()) + 1)\n",
        "        queue = [start_vertex]\n",
        "\n",
        "        # Mark the start vertex as visited\n",
        "        visited[start_vertex] = True\n",
        "\n",
        "        while queue:\n",
        "            vertex = queue.pop(0)\n",
        "            print(vertex, end=\" \")\n",
        "\n",
        "            # Process all adjacent vertices\n",
        "            for neighbor in self.graph[vertex]:\n",
        "                if not visited[neighbor]:\n",
        "                    queue.append(neighbor)\n",
        "                    visited[neighbor] = True\n",
        "\n",
        "if __name__ == '__main__':\n",
        "    g = Graph()\n",
        "    g.add_edge(0, 1)\n",
        "    g.add_edge(0, 2)\n",
        "    g.add_edge(1, 2)\n",
        "    g.add_edge(2, 0)\n",
        "    g.add_edge(2, 3)\n",
        "    g.add_edge(3, 3)\n",
        "\n",
        "    print(\"Breadth First Traversal starting from vertex 2:\")\n",
        "    g.bfs(2)\n"
      ]
    },
    {
      "cell_type": "code",
      "source": [
        "from collections import defaultdict\n",
        "from typing import List, Set, DefaultDict\n",
        "\n",
        "class Graph:\n",
        "    def __init__(self):\n",
        "        self.graph: DefaultDict[int, List[int]] = defaultdict(list)\n",
        "\n",
        "    def add_edge(self, u: int, v: int) -> None:\n",
        "        self.graph[u].append(v)\n",
        "\n",
        "    def dfs_util(self, v: int, visited: Set[int]) -> None:\n",
        "        visited.add(v)\n",
        "        print(v, end=' ')\n",
        "\n",
        "        for neighbor in self.graph[v]:\n",
        "            if neighbor not in visited:\n",
        "                self.dfs_util(neighbor, visited)\n",
        "\n",
        "    def dfs(self, v: int) -> None:\n",
        "        visited: Set[int] = set()\n",
        "        self.dfs_util(v, visited)\n",
        "\n",
        "if __name__ == \"__main__\":\n",
        "    g = Graph()\n",
        "    g.add_edge(0, 1)\n",
        "    g.add_edge(0, 2)\n",
        "    g.add_edge(1, 2)\n",
        "    g.add_edge(2, 0)\n",
        "    g.add_edge(2, 3)\n",
        "    g.add_edge(3, 3)\n",
        "\n",
        "    print(\"Following is Depth First Traversal (starting from vertex 2):\")\n",
        "    g.dfs(2)\n"
      ],
      "metadata": {
        "colab": {
          "base_uri": "https://localhost:8080/"
        },
        "id": "PhYSpTd7wv4D",
        "outputId": "079dcdcc-4e4b-4e89-8538-e16699d33f2d"
      },
      "execution_count": 2,
      "outputs": [
        {
          "output_type": "stream",
          "name": "stdout",
          "text": [
            "Following is Depth First Traversal (starting from vertex 2):\n",
            "2 0 1 3 "
          ]
        }
      ]
    },
    {
      "cell_type": "code",
      "source": [
        "import heapq\n",
        "\n",
        "class Graph:\n",
        "    def __init__(self):\n",
        "        self.graph = {}\n",
        "\n",
        "    def add_edge(self, node, neighbor, cost):\n",
        "        self.graph.setdefault(node, []).append((neighbor, cost))\n",
        "\n",
        "    def best_first_search(self, start, goal, heuristic):\n",
        "        open_list = [(heuristic[start], start)]\n",
        "        visited = set()\n",
        "\n",
        "        while open_list:\n",
        "            current_cost, current_node = heapq.heappop(open_list)\n",
        "\n",
        "            if current_node == goal:\n",
        "                print(f\"Goal '{goal}' reached.\")\n",
        "                return\n",
        "\n",
        "            if current_node not in visited:\n",
        "                visited.add(current_node)\n",
        "                print(f\"Visiting node: {current_node}\")\n",
        "\n",
        "                for neighbor, cost in self.graph.get(current_node, []):\n",
        "                    if neighbor not in visited:\n",
        "                        heapq.heappush(open_list, (heuristic[neighbor], neighbor))\n",
        "\n",
        "        print(f\"Goal '{goal}' not reachable.\")\n",
        "\n",
        "if __name__ == \"__main__\":\n",
        "    g = Graph()\n",
        "    edges = [\n",
        "        ('A', 'B', 1),\n",
        "        ('A', 'C', 4),\n",
        "        ('B', 'D', 2),\n",
        "        ('C', 'D', 5),\n",
        "        ('D', 'E', 3),\n",
        "        ('B', 'E', 6)\n",
        "    ]\n",
        "\n",
        "    for edge in edges:\n",
        "        g.add_edge(*edge)\n",
        "\n",
        "    heuristic = {\n",
        "        'A': 7,\n",
        "        'B': 6,\n",
        "        'C': 3,\n",
        "        'D': 2,\n",
        "        'E': 0\n",
        "    }\n",
        "\n",
        "    g.best_first_search('A', 'E', heuristic)\n"
      ],
      "metadata": {
        "colab": {
          "base_uri": "https://localhost:8080/"
        },
        "id": "E4wuztEDxFEk",
        "outputId": "09a482d6-4301-458b-abbb-5ab5f715cd52"
      },
      "execution_count": 3,
      "outputs": [
        {
          "output_type": "stream",
          "name": "stdout",
          "text": [
            "Visiting node: A\n",
            "Visiting node: C\n",
            "Visiting node: D\n",
            "Goal 'E' reached.\n"
          ]
        }
      ]
    },
    {
      "cell_type": "code",
      "source": [
        "import heapq\n",
        "\n",
        "class Graph:\n",
        "    def __init__(self):\n",
        "        self.graph = {}\n",
        "\n",
        "    def add_edge(self, node, neighbor, cost):\n",
        "        self.graph.setdefault(node, []).append((neighbor, cost))\n",
        "\n",
        "    def a_star_search(self, start, goal, heuristic):\n",
        "        open_list = [(0, start)]\n",
        "        g_cost = {start: 0}\n",
        "        parent = {start: None}\n",
        "        visited = set()\n",
        "\n",
        "        while open_list:\n",
        "            _, current = heapq.heappop(open_list)\n",
        "\n",
        "            if current == goal:\n",
        "                return self._reconstruct_path(parent, goal)\n",
        "\n",
        "            if current not in visited:\n",
        "                visited.add(current)\n",
        "\n",
        "                for neighbor, cost in self.graph.get(current, []):\n",
        "                    new_g_cost = g_cost[current] + cost\n",
        "                    if new_g_cost < g_cost.get(neighbor, float('inf')):\n",
        "                        g_cost[neighbor] = new_g_cost\n",
        "                        f_cost = new_g_cost + heuristic[neighbor]\n",
        "                        heapq.heappush(open_list, (f_cost, neighbor))\n",
        "                        parent[neighbor] = current\n",
        "\n",
        "        return None\n",
        "\n",
        "    def _reconstruct_path(self, parent, goal):\n",
        "        path = []\n",
        "        while goal:\n",
        "            path.append(goal)\n",
        "            goal = parent[goal]\n",
        "        return path[::-1]\n",
        "\n",
        "if __name__ == \"__main__\":\n",
        "    g = Graph()\n",
        "    g.add_edge('A', 'B', 1)\n",
        "    g.add_edge('A', 'C', 4)\n",
        "    g.add_edge('B', 'D', 2)\n",
        "    g.add_edge('C', 'D', 5)\n",
        "    g.add_edge('D', 'E', 3)\n",
        "    g.add_edge('B', 'E', 6)\n",
        "\n",
        "    heuristic = {'A': 7, 'B': 6, 'C': 2, 'D': 1, 'E': 0}\n",
        "\n",
        "    path = g.a_star_search('A', 'E', heuristic)\n",
        "\n",
        "    if path:\n",
        "        print(\"Path found:\", \" -> \".join(path))\n",
        "    else:\n",
        "        print(\"No path found\")\n"
      ],
      "metadata": {
        "colab": {
          "base_uri": "https://localhost:8080/"
        },
        "id": "FOSekLeRxZlF",
        "outputId": "4109dd70-8f04-4681-db27-e67828dd8ff3"
      },
      "execution_count": 4,
      "outputs": [
        {
          "output_type": "stream",
          "name": "stdout",
          "text": [
            "Path found: A -> B -> D -> E\n"
          ]
        }
      ]
    },
    {
      "cell_type": "code",
      "source": [
        "numbers = [3, 1, 4, 1, 5, 9, 2, 6, 5, 3, 5]\n",
        "\n",
        "# Find minimum and maximum values in the list\n",
        "min_value = min(numbers)\n",
        "max_value = max(numbers)\n",
        "\n",
        "# Print the results\n",
        "print(f\"Minimum value: {min_value}\")\n",
        "print(f\"Maximum value: {max_value}\")\n"
      ],
      "metadata": {
        "colab": {
          "base_uri": "https://localhost:8080/"
        },
        "id": "ot2Nfuhexp_M",
        "outputId": "96c038b7-a367-4dfc-88c6-f4964e4daa36"
      },
      "execution_count": 5,
      "outputs": [
        {
          "output_type": "stream",
          "name": "stdout",
          "text": [
            "Minimum value: 1\n",
            "Maximum value: 9\n"
          ]
        }
      ]
    },
    {
      "cell_type": "code",
      "source": [
        "import math\n",
        "\n",
        "def alpha_beta_pruning(depth, node_idx, is_maximizing, values, alpha, beta, max_depth):\n",
        "    if depth == max_depth:\n",
        "        return values[node_idx]\n",
        "\n",
        "    if is_maximizing:\n",
        "        best_value = -math.inf\n",
        "        for i in range(2):\n",
        "            child_value = alpha_beta_pruning(depth + 1, node_idx * 2 + i, False, values, alpha, beta, max_depth)\n",
        "            best_value = max(best_value, child_value)\n",
        "            alpha = max(alpha, best_value)\n",
        "            if beta <= alpha:\n",
        "                break\n",
        "        return best_value\n",
        "    else:\n",
        "        best_value = math.inf\n",
        "        for i in range(2):\n",
        "            child_value = alpha_beta_pruning(depth + 1, node_idx * 2 + i, True, values, alpha, beta, max_depth)\n",
        "            best_value = min(best_value, child_value)\n",
        "            beta = min(beta, best_value)\n",
        "            if beta <= alpha:\n",
        "                break\n",
        "        return best_value\n",
        "\n",
        "if __name__ == \"__main__\":\n",
        "    values = [3, 5, 6, 9, 1, 2, 0, -1]\n",
        "    max_depth = int(math.log2(len(values)))\n",
        "    optimal_value = alpha_beta_pruning(0, 0, True, values, -math.inf, math.inf, max_depth)\n",
        "    print(f\"The optimal value is: {optimal_value}\")\n"
      ],
      "metadata": {
        "colab": {
          "base_uri": "https://localhost:8080/"
        },
        "id": "YiwQOaGTx3LA",
        "outputId": "e53e6109-b09e-4b8f-8612-9818373adb96"
      },
      "execution_count": 6,
      "outputs": [
        {
          "output_type": "stream",
          "name": "stdout",
          "text": [
            "The optimal value is: 5\n"
          ]
        }
      ]
    },
    {
      "cell_type": "code",
      "source": [
        "from collections import deque\n",
        "\n",
        "def bidirectional_search(graph, start, goal):\n",
        "    if start == goal:\n",
        "        return [start]\n",
        "\n",
        "    # Initialize the forward and backward search queues\n",
        "    forward_queue = deque([start])\n",
        "    backward_queue = deque([goal])\n",
        "\n",
        "    # Paths to track the progress in both directions\n",
        "    forward_paths = {start: [start]}\n",
        "    backward_paths = {goal: [goal]}\n",
        "\n",
        "    # Visited sets for forward and backward search\n",
        "    forward_visited = set([start])\n",
        "    backward_visited = set([goal])\n",
        "\n",
        "    while forward_queue and backward_queue:\n",
        "        # Process nodes from the forward queue\n",
        "        current_forward = forward_queue.popleft()\n",
        "        for neighbor in graph[current_forward]:\n",
        "            if neighbor in backward_visited:  # Path found\n",
        "                return forward_paths[current_forward] + backward_paths[neighbor][::-1][1:]\n",
        "            if neighbor not in forward_visited:\n",
        "                forward_visited.add(neighbor)\n",
        "                forward_queue.append(neighbor)\n",
        "                forward_paths[neighbor] = forward_paths[current_forward] + [neighbor]\n",
        "\n",
        "        # Process nodes from the backward queue\n",
        "        current_backward = backward_queue.popleft()\n",
        "        for neighbor in graph[current_backward]:\n",
        "            if neighbor in forward_visited:  # Path found\n",
        "                return backward_paths[current_backward] + forward_paths[neighbor][::-1][1:]\n",
        "            if neighbor not in backward_visited:\n",
        "                backward_visited.add(neighbor)\n",
        "                backward_queue.append(neighbor)\n",
        "                backward_paths[neighbor] = backward_paths[current_backward] + [neighbor]\n",
        "\n",
        "    return None\n",
        "\n",
        "# Example usage\n",
        "graph = {\n",
        "    'A': ['B', 'C'],\n",
        "    'B': ['A', 'D', 'E'],\n",
        "    'C': ['A', 'F'],\n",
        "    'D': ['B'],\n",
        "    'E': ['B', 'F'],\n",
        "    'F': ['C', 'E']\n",
        "}\n",
        "\n",
        "start = 'A'\n",
        "goal = 'F'\n",
        "path = bidirectional_search(graph, start, goal)\n",
        "\n",
        "print(f\"Path from {start} to {goal}: {path}\")\n"
      ],
      "metadata": {
        "colab": {
          "base_uri": "https://localhost:8080/"
        },
        "id": "BKahF9eWySNE",
        "outputId": "a0249f39-6d22-475f-9a35-481ca9ba910d"
      },
      "execution_count": 7,
      "outputs": [
        {
          "output_type": "stream",
          "name": "stdout",
          "text": [
            "Path from A to F: ['F', 'A']\n"
          ]
        }
      ]
    },
    {
      "cell_type": "code",
      "source": [
        "def dfs_limited(graph, node, goal, depth, visited):\n",
        "    if node == goal:\n",
        "        return [node] if depth >= 0 else None\n",
        "    if depth == 0:\n",
        "        return None\n",
        "\n",
        "    visited.add(node)\n",
        "    for neighbor in graph[node]:\n",
        "        if neighbor not in visited:\n",
        "            result = dfs_limited(graph, neighbor, goal, depth - 1, visited)\n",
        "            if result:\n",
        "                return [node] + result\n",
        "\n",
        "    return None\n",
        "\n",
        "def iddfs(graph, start, goal):\n",
        "    depth = 0\n",
        "    while True:\n",
        "        visited = set()\n",
        "        path = dfs_limited(graph, start, goal, depth, visited)\n",
        "        if path:\n",
        "            return path\n",
        "        depth += 1\n",
        "\n",
        "# Example usage\n",
        "graph = {\n",
        "    'A': ['B', 'C'],\n",
        "    'B': ['A', 'D', 'E'],\n",
        "    'C': ['A', 'F'],\n",
        "    'D': ['B'],\n",
        "    'E': ['B', 'F'],\n",
        "    'F': ['C', 'E']\n",
        "}\n",
        "\n",
        "start = 'A'\n",
        "goal = 'F'\n",
        "path = iddfs(graph, start, goal)\n",
        "\n",
        "print(f\"Path from {start} to {goal}: {path}\")\n"
      ],
      "metadata": {
        "colab": {
          "base_uri": "https://localhost:8080/"
        },
        "id": "zbOBxPUMyhgf",
        "outputId": "3c990b6e-526d-45f9-f451-6a1d1cdf0e21"
      },
      "execution_count": 8,
      "outputs": [
        {
          "output_type": "stream",
          "name": "stdout",
          "text": [
            "Path from A to F: ['A', 'C', 'F']\n"
          ]
        }
      ]
    },
    {
      "cell_type": "code",
      "source": [
        "import heapq\n",
        "\n",
        "def uniform_cost_search(graph, start, goal):\n",
        "    # Priority queue to store (cost, node)\n",
        "    priority_queue = [(0, start)]\n",
        "    # Dictionary to store the minimum cost to reach each node\n",
        "    costs = {start: 0}\n",
        "    # Dictionary to store the path to reach each node\n",
        "    paths = {start: [start]}\n",
        "\n",
        "    while priority_queue:\n",
        "        # Get the node with the lowest cost\n",
        "        current_cost, current_node = heapq.heappop(priority_queue)\n",
        "\n",
        "        # If the goal is reached, return the path\n",
        "        if current_node == goal:\n",
        "            return paths[current_node]\n",
        "\n",
        "        # Explore neighbors\n",
        "        for neighbor, weight in graph[current_node].items():\n",
        "            new_cost = current_cost + weight\n",
        "\n",
        "            # If the new path is cheaper, update the cost and path\n",
        "            if neighbor not in costs or new_cost < costs[neighbor]:\n",
        "                costs[neighbor] = new_cost\n",
        "                paths[neighbor] = paths[current_node] + [neighbor]\n",
        "                heapq.heappush(priority_queue, (new_cost, neighbor))\n",
        "\n",
        "    return None  # Return None if the goal is not reachable\n",
        "\n",
        "# Example graph and usage\n",
        "graph = {\n",
        "    'A': {'B': 1, 'C': 4},\n",
        "    'B': {'D': 2, 'E': 5},\n",
        "    'C': {'D': 1},\n",
        "    'D': {'E': 1},\n",
        "    'E': {}\n",
        "}\n",
        "\n",
        "start = 'A'\n",
        "goal = 'E'\n",
        "path = uniform_cost_search(graph, start, goal)\n",
        "\n",
        "print(f\"Path from {start} to {goal}: {path}\")\n"
      ],
      "metadata": {
        "colab": {
          "base_uri": "https://localhost:8080/"
        },
        "id": "IXGYcZTTyy5V",
        "outputId": "2c496d8d-ef1b-4e47-aa0d-4815034c07aa"
      },
      "execution_count": 9,
      "outputs": [
        {
          "output_type": "stream",
          "name": "stdout",
          "text": [
            "Path from A to E: ['A', 'B', 'D', 'E']\n"
          ]
        }
      ]
    }
  ]
}